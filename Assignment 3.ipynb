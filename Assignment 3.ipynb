{
 "cells": [
  {
   "cell_type": "markdown",
   "id": "90c67ac9-a7de-4839-8b86-c62c8770d70a",
   "metadata": {},
   "source": [
    "**Computer Science Assignment 3**\n",
    "\n",
    "***Kaung Ye Lin***\n",
    "\n",
    "***Date - 16.2.25***"
   ]
  },
  {
   "cell_type": "markdown",
   "id": "4df1bc6d-4b4a-4c3d-90a2-fa430ddb6503",
   "metadata": {},
   "source": [
    "1. Write a lambda expression to get the product of two numbers .\n",
    "  \n",
    "      Run test for expression(5,6)\n",
    "   \n",
    "      Output : 30"
   ]
  },
  {
   "cell_type": "code",
   "execution_count": 178,
   "id": "deb6ed3d-82dd-4e4b-beb8-55eb6c427c58",
   "metadata": {},
   "outputs": [
    {
     "name": "stdout",
     "output_type": "stream",
     "text": [
      "Output: 30\n"
     ]
    }
   ],
   "source": [
    "Product_of_two_number = lambda x,y : x * y\n",
    "\n",
    "Number = Product_of_two_number(5,6)\n",
    "print(\"Output:\", Number)"
   ]
  },
  {
   "cell_type": "markdown",
   "id": "9fff8a8c-8897-433d-9058-cf5f8794055f",
   "metadata": {},
   "source": [
    "**----------------------------------------------------------------------------------------------**"
   ]
  },
  {
   "cell_type": "markdown",
   "id": "acbd87fe-9a72-4731-b06e-c0b8ada5e4e1",
   "metadata": {},
   "source": [
    "2. Write a function to get the area of a circle from the radius . Hint: remember to import the right module for being able to calculte the area of the circle.\n",
    "  \n",
    "  Run test for function (10) \n",
    "  \n",
    "  Output : 314.1592653589793"
   ]
  },
  {
   "cell_type": "code",
   "execution_count": 181,
   "id": "b3277fce-8ca4-471c-82ae-a234c0ffd955",
   "metadata": {},
   "outputs": [
    {
     "name": "stdout",
     "output_type": "stream",
     "text": [
      "Output: 314.1592653589793\n"
     ]
    }
   ],
   "source": [
    "import math\n",
    "\n",
    "pi = math.pi\n",
    "\n",
    "def function(radius):\n",
    "    return  pi * (radius ** 2)\n",
    "\n",
    "area_result = function(10)\n",
    "print(\"Output:\", area_result)\n"
   ]
  },
  {
   "cell_type": "markdown",
   "id": "96521b01-1ce4-40a9-a494-581939355d76",
   "metadata": {},
   "source": [
    "**----------------------------------------------------------------------------------------------**"
   ]
  },
  {
   "cell_type": "markdown",
   "id": "92527d46-2803-4f01-a0da-f1f671062e7d",
   "metadata": {},
   "source": [
    "3. Build a simple calculator which can: add , subtract , multiply , divide . \n",
    "\n",
    "Hint: solve by writing a function that takes as argument two numbers and the operation and returns the desired output. \n",
    "\n",
    "    Run test for function(2,5,’d’) \n",
    "    \n",
    "    Output: 0.4"
   ]
  },
  {
   "cell_type": "code",
   "execution_count": 184,
   "id": "05e4289a-e202-4fec-80dd-32cb9e44e602",
   "metadata": {},
   "outputs": [
    {
     "name": "stdout",
     "output_type": "stream",
     "text": [
      "Output: 0.4\n"
     ]
    }
   ],
   "source": [
    "def function(x,y,operation):\n",
    "    a = x + y\n",
    "    m = x - y\n",
    "    p = x * y\n",
    "    d = x / y\n",
    "\n",
    "    if operation == 'a' :\n",
    "        return a \n",
    "    elif operation == 'm' :\n",
    "        return m \n",
    "    elif operation == 'p' :\n",
    "        return p \n",
    "    elif operation == 'd' :\n",
    "        return d\n",
    "    else :\n",
    "        print (\"try again with correct function\")\n",
    "  \n",
    "\n",
    "result = function(2,5,'d')\n",
    "print(\"Output:\", result)"
   ]
  },
  {
   "cell_type": "markdown",
   "id": "530ff37d-fd4b-4918-bc10-bfabf0e5e658",
   "metadata": {},
   "source": [
    "**----------------------------------------------------------------------------------------------**"
   ]
  },
  {
   "cell_type": "markdown",
   "id": "3a1cf446-73d6-4c60-88d5-21e11f510128",
   "metadata": {},
   "source": [
    "4. Define a class named Rectangle which can be constructed by a length and width. The Rectangle class has a method which can compute the area.\n",
    "\n",
    "   Run test for r = Rectangle(5,10)\n",
    "   \n",
    "                r.area()\n",
    "   \n",
    "       Output: 50"
   ]
  },
  {
   "cell_type": "code",
   "execution_count": 188,
   "id": "871f86dc-51f2-4607-ab36-e20bbd82d897",
   "metadata": {},
   "outputs": [
    {
     "name": "stdout",
     "output_type": "stream",
     "text": [
      "Output: 50\n"
     ]
    }
   ],
   "source": [
    "class Rectangle:\n",
    "\n",
    "    def __init__(self, length, width):\n",
    "        self.length = length\n",
    "        self.width = width\n",
    "\n",
    "    def area (self):\n",
    "        return self.length * self.width\n",
    "\n",
    "r = Rectangle(5,10)\n",
    "print(\"Output:\", r.area())"
   ]
  },
  {
   "cell_type": "markdown",
   "id": "6e82b44b-235d-429a-9151-cd9c38f024df",
   "metadata": {},
   "source": [
    "**----------------------------------------------------------------------------------------------**"
   ]
  },
  {
   "cell_type": "markdown",
   "id": "b4fe24da-d581-4295-b778-8e4481afac61",
   "metadata": {},
   "source": [
    "5. Define a class named Shape and its subclass Square.\n",
    "\n",
    "   Shape objects can be consrtucted by name and length has an area function wich return 0\n",
    "\n",
    "   Square subclass has an init function which take a length and name as argument and has an area method and a describe method what prints the name of the Shape.\n",
    "\n",
    "   Print the area from Square class. \n",
    "\n",
    "\n",
    "Run test for : \n",
    "            s = Square('square',5) \n",
    "            print(s.area()) \n",
    "            print(s.describe()) \n",
    "\n",
    "\n",
    "Output: The area is: \n",
    "\n",
    "            25 \n",
    "            \n",
    "        This is a: square"
   ]
  },
  {
   "cell_type": "code",
   "execution_count": 191,
   "id": "33e712f9-86b0-4821-883e-0b415a1050a2",
   "metadata": {},
   "outputs": [
    {
     "name": "stdout",
     "output_type": "stream",
     "text": [
      "The area is: \n",
      "\t 25\n",
      "This is a : square\n"
     ]
    }
   ],
   "source": [
    "class Shape: # this is the class for general shape\n",
    "    def __init__ (self, name, length):\n",
    "        self.name = name\n",
    "        self.length = length\n",
    "    def area (self, name, length):\n",
    "        return 0\n",
    "\n",
    "class Square(Shape): # sub class for square\n",
    "    def __init__ (self, name, length):\n",
    "        super().__init__ (name,length)\n",
    "    def area (self):\n",
    "        return f\"The area is: \\n\\t {self.length ** 2}\"\n",
    "    def describe (self):\n",
    "        return f\"This is a : {self.name}\"\n",
    "        \n",
    "\n",
    "s = Square('square', 5)\n",
    "print (s.area())\n",
    "print (s.describe())"
   ]
  },
  {
   "cell_type": "code",
   "execution_count": null,
   "id": "0d1b0f77-7d70-4d1e-9618-cdc9405b4582",
   "metadata": {},
   "outputs": [],
   "source": []
  }
 ],
 "metadata": {
  "kernelspec": {
   "display_name": "Python [conda env:base] *",
   "language": "python",
   "name": "conda-base-py"
  },
  "language_info": {
   "codemirror_mode": {
    "name": "ipython",
    "version": 3
   },
   "file_extension": ".py",
   "mimetype": "text/x-python",
   "name": "python",
   "nbconvert_exporter": "python",
   "pygments_lexer": "ipython3",
   "version": "3.12.7"
  }
 },
 "nbformat": 4,
 "nbformat_minor": 5
}
